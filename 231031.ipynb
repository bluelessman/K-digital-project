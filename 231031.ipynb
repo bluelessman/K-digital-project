{
  "nbformat": 4,
  "nbformat_minor": 0,
  "metadata": {
    "colab": {
      "provenance": [],
      "authorship_tag": "ABX9TyNih5C3ygyLQwz3aT6yxl8Y",
      "include_colab_link": true
    },
    "kernelspec": {
      "name": "python3",
      "display_name": "Python 3"
    },
    "language_info": {
      "name": "python"
    }
  },
  "cells": [
    {
      "cell_type": "markdown",
      "metadata": {
        "id": "view-in-github",
        "colab_type": "text"
      },
      "source": [
        "<a href=\"https://colab.research.google.com/github/bluelessman/k5-py-wiki/blob/main/231031.ipynb\" target=\"_parent\"><img src=\"https://colab.research.google.com/assets/colab-badge.svg\" alt=\"Open In Colab\"/></a>"
      ]
    },
    {
      "cell_type": "code",
      "execution_count": null,
      "metadata": {
        "colab": {
          "base_uri": "https://localhost:8080/"
        },
        "id": "1BWcxP81GqUp",
        "outputId": "3552bad7-dac3-4b91-b5dd-e21ada352810"
      },
      "outputs": [
        {
          "name": "stdout",
          "output_type": "stream",
          "text": [
            "())\n",
            "no\n",
            "(()\n",
            "no\n",
            ".\n"
          ]
        }
      ],
      "source": [
        "import sys\n",
        "while True:\n",
        "    s = input()\n",
        "    stack = []\n",
        "    if s =='.':\n",
        "        break\n",
        "    else:\n",
        "        isTrue = True\n",
        "        for i in s:\n",
        "            if i == '(' or i == '[':\n",
        "                stack.append(i)\n",
        "            elif i == ')' or i == ']':\n",
        "                if not stack:\n",
        "                    print('no')\n",
        "                    isTrue = False\n",
        "                    break\n",
        "                elif i == ')':\n",
        "                    if stack.pop()!='(':\n",
        "                        print('no')\n",
        "                        isTrue = False\n",
        "                        break\n",
        "                elif i == ']':\n",
        "                    if stack.pop()!='[':\n",
        "                        print('no')\n",
        "                        isTrue = False\n",
        "                        break\n",
        "        if isTrue:\n",
        "          if stack:\n",
        "            print('no')\n",
        "          else:\n",
        "            print('yes')"
      ]
    },
    {
      "cell_type": "code",
      "source": [
        "import sys\n",
        "k = int(input())\n",
        "stack = []\n",
        "for i in range(k):\n",
        "    n = int(input())\n",
        "    if n == 0:\n",
        "        stack.pop()\n",
        "    else:\n",
        "        stack.append(n)\n",
        "print(sum(stack))"
      ],
      "metadata": {
        "colab": {
          "base_uri": "https://localhost:8080/"
        },
        "id": "iuhj6_aWYfG3",
        "outputId": "06679933-fe95-4903-96c0-a1ce933436c1"
      },
      "execution_count": null,
      "outputs": [
        {
          "output_type": "stream",
          "name": "stdout",
          "text": [
            "1\n",
            "1\n",
            "0\n"
          ]
        }
      ]
    },
    {
      "cell_type": "code",
      "source": [
        "from IPython.core.extensions import Configurable\n",
        "N = int(input())\n",
        "coin_count = 0\n",
        "for coin in [500,100,50,10]:\n",
        "  coin_count += N//coin\n",
        "  N = N%coin\n",
        "coin_count"
      ],
      "metadata": {
        "colab": {
          "base_uri": "https://localhost:8080/"
        },
        "id": "33UHXO3VZAAQ",
        "outputId": "8a10fe24-7194-4eb0-deec-41bf210998e9"
      },
      "execution_count": null,
      "outputs": [
        {
          "name": "stdout",
          "output_type": "stream",
          "text": [
            "1260\n"
          ]
        },
        {
          "output_type": "execute_result",
          "data": {
            "text/plain": [
              "6"
            ]
          },
          "metadata": {},
          "execution_count": 12
        }
      ]
    },
    {
      "cell_type": "code",
      "source": [
        "from collections import deque\n",
        "import sys\n",
        "import math\n",
        "def cutting(i):\n",
        "  i = math.floor(i*10)\n",
        "  if i%10 < 5:\n",
        "    i = i//10\n",
        "  else:\n",
        "    i = i//10+1\n",
        "  return i\n",
        "n = int(input())\n",
        "nlist = list(map(int,input().split()))\n",
        "nlist.sort()\n",
        "ndeque = deque(nlist)\n",
        "cut = cutting((n*15)/100)\n",
        "for i in range(cut):\n",
        "  ndeque.pop()\n",
        "  ndeque.popleft()\n",
        "print(cutting(sum(ndeque)/len(ndeque)))"
      ],
      "metadata": {
        "colab": {
          "base_uri": "https://localhost:8080/"
        },
        "id": "Rwwu5tT-ZZz-",
        "outputId": "7b58991a-6b2d-4858-ad84-c6a482562a9f"
      },
      "execution_count": null,
      "outputs": [
        {
          "output_type": "stream",
          "name": "stdout",
          "text": [
            "10\n",
            "1 13 12 15 3 16 13 12 14 15\n",
            "13\n"
          ]
        }
      ]
    },
    {
      "cell_type": "code",
      "source": [
        "n,m,k=map(int,input().split())\n",
        "nlist = list(map(int,input().split()))\n",
        "nlist.sort()\n",
        "first = nlist[-1]\n",
        "second = nlist[-2]\n",
        "count = m//(k+1)\n",
        "answer = first*3*count+m%(k+1) + second*count\n",
        "print(answer)"
      ],
      "metadata": {
        "colab": {
          "base_uri": "https://localhost:8080/"
        },
        "id": "3QUJOvz7dHc1",
        "outputId": "b0294ef5-1712-4405-b580-32cb4419a6fe"
      },
      "execution_count": null,
      "outputs": [
        {
          "output_type": "stream",
          "name": "stdout",
          "text": [
            "5 8 3\n",
            "2 4 5 4 6\n",
            "46\n"
          ]
        }
      ]
    },
    {
      "cell_type": "code",
      "source": [
        "from collections import deque\n",
        "N = int(input())\n",
        "queue = deque([])\n",
        "for i in range(N):\n",
        "  n,m = map(int,input().split())\n",
        "  l = list(map(int,input().split()))\n",
        "  for i in range(n):\n",
        "    if i == m:\n",
        "      queue.append([l[i],1])\n",
        "    else:\n",
        "      queue.append([l[i],0])\n",
        "print(queue)\n",
        "print(max(queue, key=lambda a:a[0]))\n"
      ],
      "metadata": {
        "colab": {
          "base_uri": "https://localhost:8080/"
        },
        "id": "N1R4s1wii4VE",
        "outputId": "f3d7fa76-3829-436b-f1d2-6357e5873315"
      },
      "execution_count": null,
      "outputs": [
        {
          "output_type": "stream",
          "name": "stdout",
          "text": [
            "1\n",
            "6 0\n",
            "1 1 1 9 2 1\n",
            "deque([[1, 1], [1, 0], [1, 0], [9, 0], [2, 0], [1, 0]])\n",
            "[9, 0]\n"
          ]
        }
      ]
    },
    {
      "cell_type": "code",
      "source": [
        "n,m=map(int,input().split())\n",
        "result = 0\n",
        "for i in range(n):\n",
        "  l = list(map(int,input().split()))\n",
        "  result = max(result, min(l))\n",
        "print(result)"
      ],
      "metadata": {
        "colab": {
          "base_uri": "https://localhost:8080/"
        },
        "id": "P5edoFteo1mQ",
        "outputId": "2d7487c2-a9e0-4827-8eb4-bec552a4d305"
      },
      "execution_count": null,
      "outputs": [
        {
          "output_type": "stream",
          "name": "stdout",
          "text": [
            "2 4\n",
            "7 3 1 8\n",
            "3 3 3 4\n",
            "3\n"
          ]
        }
      ]
    },
    {
      "cell_type": "code",
      "source": [
        "from collections import deque\n",
        "N = int(input())\n",
        "queue = deque([])\n",
        "for i in range(N):\n",
        "  n,m = map(int,input().split())\n",
        "  l = deque(list(map(lambda x:[int(x),0],input().split())))\n",
        "  l[m][1] = 1\n",
        "  lmax = max(l,key=lambda x:x[0])\n",
        "  count = 0\n",
        "  while True:\n",
        "    temp = l.popleft()\n",
        "    if temp[0]!=lmax[0]:\n",
        "      l.append(temp)\n",
        "    else:\n",
        "      count += 1\n",
        "      if temp[1]==1:\n",
        "        print(count)\n",
        "        break\n",
        "      else:\n",
        "        lmax = max(l,key=lambda x:x[0])\n"
      ],
      "metadata": {
        "colab": {
          "base_uri": "https://localhost:8080/"
        },
        "id": "00b4z6ZFcZCF",
        "outputId": "c0b3ea57-5ef0-4e12-d63f-7d051e352949"
      },
      "execution_count": null,
      "outputs": [
        {
          "output_type": "stream",
          "name": "stdout",
          "text": [
            "3\n",
            "1 0\n",
            "5\n",
            "1\n",
            "4 2\n",
            "1 2 3 4\n",
            "2\n",
            "6 0\n",
            "1 1 9 1 1 1\n",
            "5\n"
          ]
        }
      ]
    },
    {
      "cell_type": "code",
      "source": [
        "tc = int(input())\n",
        "for _ in range(tc):\n",
        "    n, wtk = map(int, input().split())\n",
        "    li = list(map(int, input().split()))\n",
        "    que = [(i, li[i]) for i in range(len(li))]\n",
        "    print(que)\n",
        "    li.sort(reverse=True)\n",
        "    print(li)\n",
        "    k = 0\n",
        "    for el in li:\n",
        "        while que[0][1] != el:\n",
        "            tmp = que.pop(0)\n",
        "            que.append(tmp)\n",
        "        k += 1\n",
        "        if que.pop(0)[0] == wtk:\n",
        "            break\n",
        "    print(k)"
      ],
      "metadata": {
        "colab": {
          "base_uri": "https://localhost:8080/"
        },
        "id": "EGb4ilMY2A89",
        "outputId": "8049d5b6-4f5e-4b49-ece7-69eef3ac4567"
      },
      "execution_count": null,
      "outputs": [
        {
          "output_type": "stream",
          "name": "stdout",
          "text": [
            "1\n",
            "6 0\n",
            "1 1 9 1 1 1\n",
            "[(0, 1), (1, 1), (2, 9), (3, 1), (4, 1), (5, 1)]\n",
            "[(0, 1), (1, 1), (2, 9), (3, 1), (4, 1), (5, 1)]\n",
            "5\n"
          ]
        }
      ]
    },
    {
      "cell_type": "code",
      "source": [
        "n,k=map(int,input().split())\n",
        "count = 0\n",
        "while n >= k:\n",
        "  while n%k != 0:\n",
        "    n -= 1\n",
        "    count+=1\n",
        "  while n%k == 0:\n",
        "    n //= k\n",
        "    count+=1\n",
        "count += n-1\n",
        "print(count)"
      ],
      "metadata": {
        "colab": {
          "base_uri": "https://localhost:8080/"
        },
        "id": "hhAoZ_Kz0kFF",
        "outputId": "acbd4914-3cd0-4dab-f652-9282581e3503"
      },
      "execution_count": null,
      "outputs": [
        {
          "output_type": "stream",
          "name": "stdout",
          "text": [
            "25 3\n",
            "6\n"
          ]
        }
      ]
    },
    {
      "cell_type": "code",
      "source": [
        "from math import factorial\n",
        "def solution(n, k):\n",
        "    answer = []\n",
        "    nlist = [i for i in range(1,n+1)]\n",
        "    k -= 1\n",
        "    while True:\n",
        "        a, k = divmod(k, factorial(len(nlist)-1))\n",
        "        answer.append(nlist.pop(a))\n",
        "        if not nlist:\n",
        "            break\n",
        "    return answer\n",
        "n,k=map(int,input().split())\n",
        "print(solution(n,k))"
      ],
      "metadata": {
        "colab": {
          "base_uri": "https://localhost:8080/"
        },
        "id": "y4-RhD4jWIo2",
        "outputId": "64cb67c4-36b8-428c-b1e3-ea9375c8a5ea"
      },
      "execution_count": null,
      "outputs": [
        {
          "output_type": "stream",
          "name": "stdout",
          "text": [
            "3 5\n",
            "[3, 1, 2]\n"
          ]
        }
      ]
    },
    {
      "cell_type": "code",
      "source": [
        "def factorial(n):\n",
        "    if n < 1:\n",
        "        return 1\n",
        "    else:\n",
        "        return n * factorial(n - 1)\n",
        "\n",
        "def solution(n, k):\n",
        "    # 총 n!의 경우의 수를 갖고있음\n",
        "    # 맨 앞의 수가 정해지면 (n - 1)! 의 경우의 수를 가짐\n",
        "    # k에서 (n - 1)!을 나눴을 때의 몫이 첫번째 오는 자리\n",
        "    # k에서 (n - 1)!을 나눴을 때의 나머지가 다시 k로 오는 자리\n",
        "    result = []\n",
        "    num_list = [i for i in range(1, n + 1)]\n",
        "    while(n != 0):\n",
        "        num_case = factorial(n - 1)\n",
        "        idx = k // num_case\n",
        "        k = k % num_case\n",
        "        if k == 0:\n",
        "            result.append(num_list.pop(idx - 1))\n",
        "        else:\n",
        "            result.append(num_list.pop(idx))\n",
        "        n -= 1\n",
        "    return result\n",
        "n,k=map(int,input().split())\n",
        "print(solution(n,k))"
      ],
      "metadata": {
        "colab": {
          "base_uri": "https://localhost:8080/"
        },
        "id": "ID5tNGsoWWwO",
        "outputId": "0e2aaa27-bd85-480a-e7b5-276a7bc8c497"
      },
      "execution_count": null,
      "outputs": [
        {
          "output_type": "stream",
          "name": "stdout",
          "text": [
            "3 5\n",
            "[3, 1, 2]\n"
          ]
        }
      ]
    },
    {
      "cell_type": "code",
      "source": [
        "from math import floor\n",
        "m,n=map(int,input().split())\n",
        "for i in range(m,n+1):\n",
        "  isPrime = True\n",
        "  for j in range(2,floor(i**0.5)+1):\n",
        "    if i%j==0:\n",
        "      isPrime = False\n",
        "      break\n",
        "  if isPrime:\n",
        "    print(i)\n"
      ],
      "metadata": {
        "colab": {
          "base_uri": "https://localhost:8080/"
        },
        "id": "Kzrcns7UqS7J",
        "outputId": "0436301f-4a0f-4b62-e7bd-2d028f6c2e3e"
      },
      "execution_count": null,
      "outputs": [
        {
          "output_type": "stream",
          "name": "stdout",
          "text": [
            "1 3\n",
            "1\n",
            "2\n",
            "3\n"
          ]
        }
      ]
    },
    {
      "cell_type": "code",
      "source": [
        "m,n=map(int,input().split())\n",
        "p = [1,1]+[0]*(n-1)\n",
        "for i in range(2,n+1):\n",
        "    for j in range(i,n+1,i):\n",
        "      if j!=i:\n",
        "        p[j]=1\n",
        "for i in range(len(p)):\n",
        "    if p[i]==0:\n",
        "        print(i)"
      ],
      "metadata": {
        "colab": {
          "base_uri": "https://localhost:8080/"
        },
        "id": "JRl5A9HAxOhQ",
        "outputId": "07b87325-ab4b-4997-e1fb-795b44c6fe8f"
      },
      "execution_count": null,
      "outputs": [
        {
          "output_type": "stream",
          "name": "stdout",
          "text": [
            "4 130\n",
            "2\n",
            "3\n",
            "5\n",
            "7\n",
            "11\n",
            "13\n",
            "17\n",
            "19\n",
            "23\n",
            "29\n",
            "31\n",
            "37\n",
            "41\n",
            "43\n",
            "47\n",
            "53\n",
            "59\n",
            "61\n",
            "67\n",
            "71\n",
            "73\n",
            "79\n",
            "83\n",
            "89\n",
            "97\n",
            "101\n",
            "103\n",
            "107\n",
            "109\n",
            "113\n",
            "127\n"
          ]
        }
      ]
    },
    {
      "cell_type": "code",
      "source": [
        "from math import floor\n",
        "def cutting(i):\n",
        "  i = floor(i*10)\n",
        "  if i%10 < 5:\n",
        "    i = i//10\n",
        "  else:\n",
        "    i = i//10+1\n",
        "  return i\n",
        "N = int(input())\n",
        "nsum = 0\n",
        "ndic = {}\n",
        "for i in range(N):\n"
      ],
      "metadata": {
        "colab": {
          "base_uri": "https://localhost:8080/"
        },
        "id": "ifDGgfui0mc9",
        "outputId": "1945c40c-7fe1-42b1-d36e-7da5d7fc759b"
      },
      "execution_count": null,
      "outputs": [
        {
          "output_type": "stream",
          "name": "stdout",
          "text": [
            "3\n",
            "0\n",
            "0\n",
            "-1\n",
            "0\n",
            "0\n",
            "0\n",
            "1\n",
            "[-1, 0, 0]\n"
          ]
        }
      ]
    }
  ]
}