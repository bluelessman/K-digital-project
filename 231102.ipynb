{
  "nbformat": 4,
  "nbformat_minor": 0,
  "metadata": {
    "colab": {
      "provenance": [],
      "authorship_tag": "ABX9TyOcd8aicdg0rpX6JQDDhOVS",
      "include_colab_link": true
    },
    "kernelspec": {
      "name": "python3",
      "display_name": "Python 3"
    },
    "language_info": {
      "name": "python"
    }
  },
  "cells": [
    {
      "cell_type": "markdown",
      "metadata": {
        "id": "view-in-github",
        "colab_type": "text"
      },
      "source": [
        "<a href=\"https://colab.research.google.com/github/bluelessman/K-digital-project/blob/main/231102.ipynb\" target=\"_parent\"><img src=\"https://colab.research.google.com/assets/colab-badge.svg\" alt=\"Open In Colab\"/></a>"
      ]
    },
    {
      "cell_type": "code",
      "execution_count": null,
      "metadata": {
        "colab": {
          "base_uri": "https://localhost:8080/"
        },
        "id": "5-qPrni2aT7a",
        "outputId": "fe7661bf-3df2-4938-9790-185a1147cd8a"
      },
      "outputs": [
        {
          "output_type": "stream",
          "name": "stdout",
          "text": [
            "10 4200\n",
            "1 5 10 50 100 500 1000 5000 10000 50000\n",
            "50000\n",
            "10000\n",
            "5000\n",
            "1000\n",
            "500\n",
            "100\n",
            "6\n"
          ]
        }
      ],
      "source": [
        "import sys\n",
        "n,k=map(int,input().split())\n",
        "nlist = list(map(int,input().split()))\n",
        "ans = 0\n",
        "for i in nlist[::-1]:\n",
        "    print(i)\n",
        "    ans += k//i\n",
        "    k = k%i\n",
        "    if k==0:\n",
        "        break\n",
        "print(ans)"
      ]
    },
    {
      "cell_type": "code",
      "source": [
        "n = input()\n",
        "n = ''.join(sorted(n,reverse=True))\n",
        "print(n)"
      ],
      "metadata": {
        "colab": {
          "base_uri": "https://localhost:8080/"
        },
        "id": "0DflmqSmcnL8",
        "outputId": "613b7e83-e588-4450-a7f4-1d0352dd5255"
      },
      "execution_count": null,
      "outputs": [
        {
          "output_type": "stream",
          "name": "stdout",
          "text": [
            "500613009\n",
            "965310000\n"
          ]
        }
      ]
    },
    {
      "cell_type": "code",
      "source": [
        "n = int(input())\n",
        "p = [1,1]\n",
        "travel = input().split()\n",
        "for i in travel:\n",
        "  if i == 'L' and p[1]!=1:\n",
        "    p[1] -= 1\n",
        "  elif i == 'R' and p[1] != 5:\n",
        "    p[1] += 1\n",
        "  elif i == 'U' and p[0] != 1:\n",
        "    p[0] -= 1\n",
        "  elif i == 'D' and p[0] != 5:\n",
        "    p[0] += 1\n",
        "print(p[0],p[1])"
      ],
      "metadata": {
        "colab": {
          "base_uri": "https://localhost:8080/"
        },
        "id": "6ayLMKENe0jT",
        "outputId": "816e0dd2-caab-46b4-fea0-e5af6e77d7bb"
      },
      "execution_count": null,
      "outputs": [
        {
          "output_type": "stream",
          "name": "stdout",
          "text": [
            "5\n",
            "R R R U D D\n",
            "3 4\n"
          ]
        }
      ]
    },
    {
      "cell_type": "code",
      "source": [
        "flist = [[1,0],[0,1]]\n",
        "n = int(input())\n",
        "for i in range(n):\n",
        "  k = int(input())\n",
        "  for j in range(len(flist),k+1):\n",
        "    flist.append([flist[j-1][0]+flist[j-2][0],flist[j-1][1]+flist[j-2][1]])\n",
        "  print(flist[k][0],flist[k][1])"
      ],
      "metadata": {
        "colab": {
          "base_uri": "https://localhost:8080/"
        },
        "id": "Y6HjV8ipgn6j",
        "outputId": "aaafdfd4-acf4-4c68-ab4b-b9aae59306ae"
      },
      "execution_count": null,
      "outputs": [
        {
          "output_type": "stream",
          "name": "stdout",
          "text": [
            "2\n",
            "6\n",
            "5 8\n",
            "22\n",
            "10946 17711\n"
          ]
        }
      ]
    },
    {
      "cell_type": "code",
      "source": [
        "n = [0,1]+[1,0]\n",
        "print(n)"
      ],
      "metadata": {
        "colab": {
          "base_uri": "https://localhost:8080/"
        },
        "id": "QDpAxz7nhch7",
        "outputId": "531480e2-283f-4d35-e178-4df813bc7cc5"
      },
      "execution_count": null,
      "outputs": [
        {
          "output_type": "stream",
          "name": "stdout",
          "text": [
            "[0, 1, 1, 0]\n"
          ]
        }
      ]
    },
    {
      "cell_type": "code",
      "source": [
        "n = int(input())\n",
        "count = 0\n",
        "for i in range(n+1):\n",
        "  for j in range(60):\n",
        "    for k in range(60):\n",
        "      if '3' in str(i)+str(j)+str(k):\n",
        "        count += 1\n",
        "print(count)"
      ],
      "metadata": {
        "colab": {
          "base_uri": "https://localhost:8080/"
        },
        "id": "q_aIUU7Ipb1A",
        "outputId": "9528e160-6ca9-4f4b-cb74-36ecc0ffdb56"
      },
      "execution_count": null,
      "outputs": [
        {
          "output_type": "stream",
          "name": "stdout",
          "text": [
            "5\n",
            "11475\n"
          ]
        }
      ]
    },
    {
      "cell_type": "code",
      "source": [
        "steps = [(-2,1),(-2,-1),(-1,2),(-1,-2),(1,2),(1,-2),(2,1),(2,-1)]\n",
        "count = 0\n",
        "p = input()\n",
        "row = int(p[1])\n",
        "column = ord(p[0])-ord('a')+1\n",
        "for i in steps:\n",
        "  new_row = row+i[0]\n",
        "  new_column = column+i[1]\n",
        "  if new_row > 0 and new_row < 9 and new_column > 0 and new_column < 9:\n",
        "    count += 1\n",
        "print(count)"
      ],
      "metadata": {
        "colab": {
          "base_uri": "https://localhost:8080/"
        },
        "id": "cTdk2p1tp4wX",
        "outputId": "23dcffb3-4941-44c6-c451-2cc7660b3036"
      },
      "execution_count": null,
      "outputs": [
        {
          "output_type": "stream",
          "name": "stdout",
          "text": [
            "a2\n",
            "3\n"
          ]
        }
      ]
    },
    {
      "cell_type": "code",
      "source": [
        "n,m=map(int,input().split())\n",
        "a,b,d = map(int,input().split())\n",
        "maplist = []\n",
        "for i in range(n):\n",
        "  maplist.append(list(map(int,input().split())))\n",
        "maplist[a][b] = 2\n",
        "count = 1\n",
        "firstd = d\n",
        "da = [-1,0,1,0]\n",
        "db = [0,1,0,-1]\n",
        "while True:\n",
        "  if d == 0:\n",
        "    d = 3\n",
        "  else:\n",
        "    d -= 1\n",
        "  if maplist[a+da[d]][b+db[d]] == 0:\n",
        "    a += da[d]\n",
        "    b += db[d]\n",
        "    maplist[a][b] = 2\n",
        "    count += 1\n",
        "    firstd = d\n",
        "  elif firstd == d:\n",
        "    if maplist[a-da[d]][b-db[d]] == 1:\n",
        "      break\n",
        "    else:\n",
        "      a -= da[d]\n",
        "      b -= db[d]\n",
        "      firstd = d\n",
        "print(count)"
      ],
      "metadata": {
        "colab": {
          "base_uri": "https://localhost:8080/"
        },
        "id": "eJLnCKd2wt2H",
        "outputId": "e9e6ff27-080d-4804-ca08-ea8c86a16fda"
      },
      "execution_count": null,
      "outputs": [
        {
          "output_type": "stream",
          "name": "stdout",
          "text": [
            "5 5\n",
            "1 3 0\n",
            "1 1 1 1 1\n",
            "1 0 1 0 1\n",
            "1 0 1 0 1\n",
            "1 0 0 0 1\n",
            "1 1 1 1 1\n",
            "7\n"
          ]
        }
      ]
    },
    {
      "cell_type": "code",
      "source": [
        "n = 4\n",
        "m = 4\n",
        "data = \"\"\"\n",
        "1 1 1 1\n",
        "1 0 0 1\n",
        "1 1 0 1\n",
        "1 1 1 1\n",
        "\"\"\"\n",
        "array = []\n",
        "lines = data.strip().split(\"\\n\")\n",
        "for line in lines:\n",
        "  array.append(list(map(int,line.split())))\n",
        "print(array)"
      ],
      "metadata": {
        "colab": {
          "base_uri": "https://localhost:8080/"
        },
        "id": "nClRMnmD95Wv",
        "outputId": "1308df8c-9854-4330-ce48-2867bfce4811"
      },
      "execution_count": null,
      "outputs": [
        {
          "output_type": "stream",
          "name": "stdout",
          "text": [
            "[[1, 1, 1, 1], [1, 0, 0, 1], [1, 1, 0, 1], [1, 1, 1, 1]]\n"
          ]
        }
      ]
    }
  ]
}