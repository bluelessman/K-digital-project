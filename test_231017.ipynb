{
  "cells": [
    {
      "cell_type": "markdown",
      "metadata": {
        "id": "view-in-github",
        "colab_type": "text"
      },
      "source": [
        "<a href=\"https://colab.research.google.com/github/bluelessman/K-digital-project/blob/main/test_231017.ipynb\" target=\"_parent\"><img src=\"https://colab.research.google.com/assets/colab-badge.svg\" alt=\"Open In Colab\"/></a>"
      ]
    },
    {
      "cell_type": "code",
      "execution_count": null,
      "metadata": {
        "colab": {
          "base_uri": "https://localhost:8080/",
          "height": 35
        },
        "id": "Jv9z53uIDE3-",
        "outputId": "75027cec-60d3-450e-b6f9-b081d684aa8c"
      },
      "outputs": [
        {
          "data": {
            "application/vnd.google.colaboratory.intrinsic+json": {
              "type": "string"
            },
            "text/plain": [
              "'여기도\\n주석입니다'"
            ]
          },
          "execution_count": 3,
          "metadata": {},
          "output_type": "execute_result"
        }
      ],
      "source": [
        "x=10 #여기는 1줄 주석입니다\n",
        "x+1\n",
        "\n",
        "'''여기는\n",
        "여려줄\n",
        "주석입니다'''\n",
        "\"\"\"여기도\n",
        "주석입니다\"\"\""
      ]
    },
    {
      "cell_type": "code",
      "execution_count": null,
      "metadata": {
        "colab": {
          "base_uri": "https://localhost:8080/"
        },
        "id": "1DXdUn5qGN20",
        "outputId": "bd7e2f26-5674-4b10-c804-7663ad04387f"
      },
      "outputs": [
        {
          "name": "stdout",
          "output_type": "stream",
          "text": [
            "['False', 'None', 'True', 'and', 'as', 'assert', 'async', 'await', 'break', 'class', 'continue', 'def', 'del', 'elif', 'else', 'except', 'finally', 'for', 'from', 'global', 'if', 'import', 'in', 'is', 'lambda', 'nonlocal', 'not', 'or', 'pass', 'raise', 'return', 'try', 'while', 'with', 'yield']\n"
          ]
        }
      ],
      "source": [
        "import keyword\n",
        "a=keyword.kwlist\n",
        "print(a)"
      ]
    },
    {
      "cell_type": "code",
      "execution_count": null,
      "metadata": {
        "colab": {
          "base_uri": "https://localhost:8080/"
        },
        "id": "CLupsegfLYGs",
        "outputId": "326c8f62-5160-40b9-9810-b947e6ef21a4"
      },
      "outputs": [
        {
          "data": {
            "text/plain": [
              "float"
            ]
          },
          "execution_count": 12,
          "metadata": {},
          "output_type": "execute_result"
        }
      ],
      "source": [
        "type(0.1)"
      ]
    },
    {
      "cell_type": "code",
      "execution_count": null,
      "metadata": {
        "colab": {
          "base_uri": "https://localhost:8080/"
        },
        "id": "weWW_PhHPtSd",
        "outputId": "7832c57d-23a4-452a-9a07-3d39f2940723"
      },
      "outputs": [
        {
          "data": {
            "text/plain": [
              "1000"
            ]
          },
          "execution_count": 13,
          "metadata": {},
          "output_type": "execute_result"
        }
      ],
      "source": [
        "10**3"
      ]
    },
    {
      "cell_type": "code",
      "execution_count": null,
      "metadata": {
        "colab": {
          "base_uri": "https://localhost:8080/"
        },
        "id": "uW9OwxnTRo8S",
        "outputId": "aa3617c9-4013-4ff5-8325-0842720df777"
      },
      "outputs": [
        {
          "data": {
            "text/plain": [
              "False"
            ]
          },
          "execution_count": 21,
          "metadata": {},
          "output_type": "execute_result"
        }
      ],
      "source": [
        "x = \"Hello world~!\"\n",
        "\"t\" in x"
      ]
    },
    {
      "cell_type": "code",
      "execution_count": null,
      "metadata": {
        "colab": {
          "base_uri": "https://localhost:8080/"
        },
        "id": "k8j7G22TSRL9",
        "outputId": "36715f33-7af6-46e2-d482-9da4cfca3dbb"
      },
      "outputs": [
        {
          "data": {
            "text/plain": [
              "False"
            ]
          },
          "execution_count": 25,
          "metadata": {},
          "output_type": "execute_result"
        }
      ],
      "source": [
        "x = [1,2,3,4,5,\"a\",\"6\"]\n",
        "\"a\" in x\n",
        "1 in x\n",
        "\"1\" in x\n",
        "6 in x"
      ]
    },
    {
      "cell_type": "code",
      "execution_count": null,
      "metadata": {
        "colab": {
          "base_uri": "https://localhost:8080/"
        },
        "id": "YxH3dttCUr2b",
        "outputId": "0558edfd-db97-41dc-d21f-e0d30e518894"
      },
      "outputs": [
        {
          "name": "stdout",
          "output_type": "stream",
          "text": [
            "num=0000000010\n",
            "10\n",
            "num = 0000003.14\n",
            "num=10\n",
            "Hello, John!\n",
            "The answer is 42.\n",
            "Pi is approximately 3.14.\n",
            "My name is Jane Doe and I am 25 years old.\n",
            "My name is Jane Doe and I am 25 years old.\n"
          ]
        }
      ],
      "source": [
        "num=10\n",
        "pi=3.141592\n",
        "x = \"num=%010d\" % num\n",
        "print(x)\n",
        "print(num)\n",
        "print(\"num = %010.2f\"%pi)\n",
        "print(\"num={}\".format(num))\n",
        "# 문자열\n",
        "name = \"John\"\n",
        "print(\"Hello, {}!\".format(name))\n",
        "\n",
        "# 정수\n",
        "num = 42\n",
        "print(\"The answer is {}.\".format(num))\n",
        "\n",
        "# 실수\n",
        "pi = 3.14159\n",
        "print(\"Pi is approximately {:.2f}.\".format(pi))\n",
        "\n",
        "# 여러 개의 변수\n",
        "first_name = \"Jane\"\n",
        "last_name = \"Doe\"\n",
        "age = 25\n",
        "print(\"My name is {} {} and I am {} years old.\".format(first_name, last_name, age))\n",
        "\n",
        "# 인덱스를 이용한 대입\n",
        "first_name = \"Jane\"\n",
        "last_name = \"Doe\"\n",
        "age = 25\n",
        "print(\"My name is {1} {0} and I am {2} years old.\".format(last_name, first_name, age))"
      ]
    },
    {
      "cell_type": "code",
      "execution_count": null,
      "metadata": {
        "colab": {
          "base_uri": "https://localhost:8080/"
        },
        "id": "jWDcukuyWy7F",
        "outputId": "7161e71b-d0a3-41a7-e29f-888786d825e2"
      },
      "outputs": [
        {
          "name": "stdout",
          "output_type": "stream",
          "text": [
            "The value of y is      12.35.\n",
            "The value of z is    +3.\n",
            "The value of w is 0000012345.\n",
            "   Hello, World!    \n"
          ]
        }
      ],
      "source": [
        "# f-string에서 다양한 서식 지정자를 이용하는 예제\n",
        "\n",
        "y = 12.345\n",
        "\n",
        "print(f\"The value of y is {y:10.2f}.\")\n",
        "# 출력 결과: \"The value of y is     12.35.\"\n",
        "\n",
        "z = 3\n",
        "\n",
        "print(f\"The value of z is {z:+5d}.\")\n",
        "# 출력 결과: \"The value of z is    +3.\"\n",
        "\n",
        "w = 12345\n",
        "\n",
        "print(f\"The value of w is {w:0>10d}.\")\n",
        "# 출력 결과: \"The value of w is 0000012345.\"\n",
        "\n",
        "text = \"Hello, World!\"\n",
        "\n",
        "print(f\"{text:^20}\")\n",
        "# 출력 결과: \"   Hello, World!    \"\n"
      ]
    },
    {
      "cell_type": "code",
      "source": [
        "# input()과 산술식만을 이용하여 가장 큰 숫자 출력하기\n",
        "num1 = int(input(\"첫 번째 숫자를 입력하세요: \"))\n",
        "num2 = int(input(\"두 번째 숫자를 입력하세요: \"))\n",
        "num3 = int(input(\"세 번째 숫자를 입력하세요: \"))\n",
        "\n",
        "max_num = num1\n",
        "\n",
        "if max_num < num2:\n",
        "    max_num = num2\n",
        "\n",
        "if max_num < num3:\n",
        "    max_num = num3\n",
        "\n",
        "print(f\"입력한 숫자 중 가장 큰 수는 {max_num}입니다.\")\n"
      ],
      "metadata": {
        "colab": {
          "base_uri": "https://localhost:8080/"
        },
        "id": "q7gkdrF-fBr1",
        "outputId": "9dcceedf-643e-47b6-cc24-3830bec69992"
      },
      "execution_count": null,
      "outputs": [
        {
          "output_type": "stream",
          "name": "stdout",
          "text": [
            "첫 번째 숫자를 입력하세요: 3\n",
            "두 번째 숫자를 입력하세요: 4\n",
            "세 번째 숫자를 입력하세요: 5\n",
            "입력한 숫자 중 가장 큰 수는 5입니다.\n"
          ]
        }
      ]
    },
    {
      "cell_type": "code",
      "source": [
        "second = int(input(\"초를 입력하시오: \"))\n",
        "print(f\"{second}초는 {second//60}분 {second%60}초 입니다\")"
      ],
      "metadata": {
        "colab": {
          "base_uri": "https://localhost:8080/"
        },
        "id": "HKS1M1cYfTwE",
        "outputId": "8ddf5459-da5f-4877-ee92-689383f5a809"
      },
      "execution_count": null,
      "outputs": [
        {
          "output_type": "stream",
          "name": "stdout",
          "text": [
            "초를 입력하시오: 27000\n",
            "27000초는 450분 0초 입니다\n"
          ]
        }
      ]
    },
    {
      "cell_type": "code",
      "source": [
        "minute = int(input(\"분을 입력하시오: \"))\n",
        "day = minute//(60*24)\n",
        "hour = minute%(60*24)//60\n",
        "pre_minute = minute%60\n",
        "print(f\"{minute}분은 {day}일 {hour}시 {pre_minute}분입니다.\")"
      ],
      "metadata": {
        "colab": {
          "base_uri": "https://localhost:8080/"
        },
        "id": "TcJvzopwfx5t",
        "outputId": "7a7ccb92-c390-465f-e1e1-db7bf820941c"
      },
      "execution_count": null,
      "outputs": [
        {
          "output_type": "stream",
          "name": "stdout",
          "text": [
            "분을 입력하시오: 1650\n",
            "1650분은 1일 3시 30분입니다.\n"
          ]
        }
      ]
    },
    {
      "cell_type": "code",
      "source": [
        "money = int(input(\"저금한 금액: \"))\n",
        "period = int(input(\"저금할 기간: \"))\n",
        "earn = int(input(\"연이율: \"))\n",
        "earntype = input(\"복리 or 단리?: \")\n",
        "returnmoney = 0\n",
        "if earntype == \"복리\":\n",
        "  for i in range(period):\n",
        "    money *= 1+earn/100\n",
        "  returnmoney = money\n",
        "else :\n",
        "  returnmoney = money\n",
        "  for i in range(period):\n",
        "    returnmoney += money*earn/100\n",
        "print(f\"돌려받는 금액은 {returnmoney:.2f}원 입니다\")"
      ],
      "metadata": {
        "colab": {
          "base_uri": "https://localhost:8080/"
        },
        "id": "E1p8ycX7g3I0",
        "outputId": "ff0a7241-7d7d-4742-b808-57c3b18efc00"
      },
      "execution_count": null,
      "outputs": [
        {
          "output_type": "stream",
          "name": "stdout",
          "text": [
            "저금한 금액: 5000000\n",
            "저금할 기간: 5\n",
            "연이율: 5\n",
            "복리 or 단리?: 단리\n",
            "돌려받는 금액은 6250000.00원 입니다\n"
          ]
        }
      ]
    },
    {
      "cell_type": "code",
      "source": [
        "money = int(input(\"저금한 금액: \"))\n",
        "period = int(input(\"저금할 기간: \"))\n",
        "earn = int(input(\"연이율: \"))\n",
        "earntype = input(\"복리 or 단리?: \")\n",
        "returnmoney = 0\n",
        "if earntype == \"복리\":\n",
        "  returnmoney = money*((1+earn/100)**period)\n",
        "else :\n",
        "  returnmoney = money*(1+earn/100*period)\n",
        "print(f\"돌려받는 금액은 {returnmoney:.2f}원 입니다\")"
      ],
      "metadata": {
        "colab": {
          "base_uri": "https://localhost:8080/"
        },
        "id": "20gs8FORmPyN",
        "outputId": "89d9bfd9-5217-48ea-bd9d-263babed7bc8"
      },
      "execution_count": null,
      "outputs": [
        {
          "output_type": "stream",
          "name": "stdout",
          "text": [
            "저금한 금액: 5000000\n",
            "저금할 기간: 5\n",
            "연이율: 5\n",
            "복리 or 단리?: 단리\n",
            "돌려받는 금액은 6250000.00원 입니다\n"
          ]
        }
      ]
    },
    {
      "cell_type": "code",
      "source": [
        "count = int(input())\n",
        "print(f\"1부터 {count}까지의 합은 {int(count*(count+1)/2)}입니다.\")"
      ],
      "metadata": {
        "colab": {
          "base_uri": "https://localhost:8080/"
        },
        "id": "qnGa8yt5kNMs",
        "outputId": "b4f21d5d-82ca-4d08-b52b-17591bc9e5d1"
      },
      "execution_count": null,
      "outputs": [
        {
          "output_type": "stream",
          "name": "stdout",
          "text": [
            "100\n",
            "1부터 100까지의 합은 5050입니다.\n"
          ]
        }
      ]
    },
    {
      "cell_type": "code",
      "source": [
        "grape = int(input(\"포도알의 개수: \"))\n",
        "berry = int(input(\"딸기의 개수: \"))\n",
        "print(f\"포도 {grape}알과 딸기 {berry}개의 총 무게는 {grape*75+berry*113.5}g입니다.\")"
      ],
      "metadata": {
        "colab": {
          "base_uri": "https://localhost:8080/"
        },
        "id": "ofkx5-YwkmwP",
        "outputId": "9d8fad1e-9696-4f93-9686-ad977f0b0b18"
      },
      "execution_count": null,
      "outputs": [
        {
          "output_type": "stream",
          "name": "stdout",
          "text": [
            "포도알의 개수: 15\n",
            "딸기의 개수: 7\n",
            "포도 15알과 딸기 7개의 총 무게는 1919.5g입니다.\n"
          ]
        }
      ]
    },
    {
      "cell_type": "code",
      "execution_count": null,
      "metadata": {
        "colab": {
          "base_uri": "https://localhost:8080/"
        },
        "id": "XIpSo2N5XNGE",
        "outputId": "38012f5d-91d3-41da-e333-703073ea2b31"
      },
      "outputs": [
        {
          "output_type": "stream",
          "name": "stdout",
          "text": [
            "당신의 이름은?수\n",
            "당신의 이름은 수\n"
          ]
        }
      ],
      "source": [
        "name = input(\"당신의 이름은?\")\n",
        "print(f\"당신의 이름은 {name}\")"
      ]
    },
    {
      "cell_type": "code",
      "source": [
        "A = input(\"a:\")\n",
        "B = input(\"b:\")\n",
        "int(A)+int(B)"
      ],
      "metadata": {
        "colab": {
          "base_uri": "https://localhost:8080/"
        },
        "id": "d74raA83diQ1",
        "outputId": "3f680720-88f1-42b0-ba59-33733a936771"
      },
      "execution_count": null,
      "outputs": [
        {
          "name": "stdout",
          "output_type": "stream",
          "text": [
            "a:40\n",
            "b:50\n"
          ]
        },
        {
          "output_type": "execute_result",
          "data": {
            "text/plain": [
              "90"
            ]
          },
          "metadata": {},
          "execution_count": 53
        }
      ]
    },
    {
      "cell_type": "markdown",
      "metadata": {
        "id": "lb7WA4-gECMq"
      },
      "source": [
        "코렙 파이썬 개발 환경입니다\n",
        "# 1. 제목\n",
        "## 1.1 제목\n",
        "### 1.1.1 제목\n",
        "- 리스트 1\n",
        "- 리스트 2\n",
        "- 리스트 3\n",
        "  - 들여쓰기 리스트\n",
        "\n",
        "> 인용구문\n",
        "\n",
        "\n",
        "1. 번호 리스트 1\n",
        "2. 번호 리스트 2\n",
        "3. 번호 리스트 3"
      ]
    }
  ],
  "metadata": {
    "colab": {
      "provenance": [],
      "authorship_tag": "ABX9TyOdfe4FNOipEyl3Mau09SH1",
      "include_colab_link": true
    },
    "kernelspec": {
      "display_name": "Python 3",
      "name": "python3"
    },
    "language_info": {
      "name": "python"
    }
  },
  "nbformat": 4,
  "nbformat_minor": 0
}