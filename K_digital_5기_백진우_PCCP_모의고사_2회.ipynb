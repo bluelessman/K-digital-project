{
  "nbformat": 4,
  "nbformat_minor": 0,
  "metadata": {
    "colab": {
      "provenance": [],
      "authorship_tag": "ABX9TyMatR8NTKq1QURoj9b98BmL",
      "include_colab_link": true
    },
    "kernelspec": {
      "name": "python3",
      "display_name": "Python 3"
    },
    "language_info": {
      "name": "python"
    }
  },
  "cells": [
    {
      "cell_type": "markdown",
      "metadata": {
        "id": "view-in-github",
        "colab_type": "text"
      },
      "source": [
        "<a href=\"https://colab.research.google.com/github/bluelessman/k5-py_and_wiki/blob/main/K_digital_5%EA%B8%B0_%EB%B0%B1%EC%A7%84%EC%9A%B0_PCCP_%EB%AA%A8%EC%9D%98%EA%B3%A0%EC%82%AC_2%ED%9A%8C.ipynb\" target=\"_parent\"><img src=\"https://colab.research.google.com/assets/colab-badge.svg\" alt=\"Open In Colab\"/></a>"
      ]
    },
    {
      "cell_type": "code",
      "execution_count": null,
      "metadata": {
        "id": "y1z0MYlhCVZo"
      },
      "outputs": [],
      "source": [
        "def solution(command):\n",
        "    answer = [0,0]\n",
        "    move = [[0,1],[1,0],[0,-1],[-1,0]]\n",
        "    direction = 0\n",
        "    for i in command:\n",
        "        if i == 'G':\n",
        "            answer[0] += move[direction][0]\n",
        "            answer[1] += move[direction][1]\n",
        "        elif i == 'B':\n",
        "            answer[0] -= move[direction][0]\n",
        "            answer[1] -= move[direction][1]\n",
        "        elif i == 'R':\n",
        "            if direction == 3:\n",
        "                direction = 0\n",
        "            else:\n",
        "                direction += 1\n",
        "        else:\n",
        "            if direction == 0:\n",
        "                direction = 3\n",
        "            else:\n",
        "                direction -= 1\n",
        "\n",
        "    return answer"
      ]
    },
    {
      "cell_type": "markdown",
      "source": [
        "1번 실습용 로봇"
      ],
      "metadata": {
        "id": "iJDY-rCYCe0C"
      }
    },
    {
      "cell_type": "code",
      "source": [
        "def solution(ability, number):\n",
        "    answer = 0\n",
        "    for i in range(number):\n",
        "        ability.sort()\n",
        "        ability[0],ability[1] = ability[0]+ability[1],ability[0]+ability[1]\n",
        "    answer = sum(ability)\n",
        "    return answer"
      ],
      "metadata": {
        "id": "QpWL7asLCdmS"
      },
      "execution_count": null,
      "outputs": []
    },
    {
      "cell_type": "markdown",
      "source": [
        "2번 신입사원 교육(50점+시간초과)"
      ],
      "metadata": {
        "id": "1meeSIMXU9N8"
      }
    },
    {
      "cell_type": "code",
      "source": [
        "import heapq\n",
        "def solution(ability, number):\n",
        "    answer = 0\n",
        "    heapq.heapify(ability)\n",
        "    for i in range(number):\n",
        "        first = heapq.heappop(ability)\n",
        "        second = heapq.heappop(ability)\n",
        "        first, second = first+second,first+second\n",
        "        heapq.heappush(ability,first)\n",
        "        heapq.heappush(ability,second)\n",
        "    answer = sum(ability)\n",
        "    return answer"
      ],
      "metadata": {
        "id": "VHOFsW9ZU1Bd"
      },
      "execution_count": null,
      "outputs": []
    },
    {
      "cell_type": "markdown",
      "source": [
        "2번 신입사원 교육(힙 사용)"
      ],
      "metadata": {
        "id": "D8j25_P9U2iL"
      }
    },
    {
      "cell_type": "code",
      "source": [
        "def solution(menu, order, k):\n",
        "    answer = 0\n",
        "    timeline = [0]*(max(max(menu),k)*(len(order)+1))\n",
        "    remaintime = 0\n",
        "    for i in range(len(order)):\n",
        "        for j in range(i*k,i*k+menu[order[i]]+remaintime):\n",
        "            timeline[j] += 1\n",
        "        remaintime = max(remaintime + menu[order[i]] - k,0)\n",
        "    answer = max(timeline)\n",
        "    return answer"
      ],
      "metadata": {
        "id": "yR0oC-OgU1kL"
      },
      "execution_count": null,
      "outputs": []
    },
    {
      "cell_type": "markdown",
      "source": [
        "3번 카페 확장(50점+시간초과)"
      ],
      "metadata": {
        "id": "gfclcrW9U2J6"
      }
    },
    {
      "cell_type": "code",
      "source": [
        "import math\n",
        "def solution(menu, order, k):\n",
        "    answer = 0\n",
        "    timeline = [0]*len(order)\n",
        "    remaintime = 0\n",
        "    for i in range(len(order)):\n",
        "        for j in range(i,min(len(order),math.ceil(i+(menu[order[i]]+remaintime)/k))):\n",
        "            timeline[j] += 1\n",
        "        remaintime = max(remaintime + menu[order[i]] - k,0)\n",
        "    answer = max(timeline)\n",
        "    return answer"
      ],
      "metadata": {
        "id": "EijAe1RLnINg"
      },
      "execution_count": null,
      "outputs": []
    },
    {
      "cell_type": "markdown",
      "source": [
        "3번 카페 확장(올림 사용)"
      ],
      "metadata": {
        "id": "jK3WR_EdnJSN"
      }
    },
    {
      "cell_type": "code",
      "source": [
        "from collections import deque\n",
        "\n",
        "def bfs(n,m,graph,dist):\n",
        "    queue = deque()\n",
        "    dx = [-1,1,0,0]\n",
        "    dy = [0,0,-1,1]\n",
        "    queue.append((0,0,0))\n",
        "    while queue:\n",
        "        x,y,use=queue.popleft()\n",
        "        for i in range(4):\n",
        "            nx = x + dx[i]\n",
        "            ny = y + dy[i]\n",
        "            nuse = use\n",
        "            if nx<0 or ny<0 or nx>=n or ny>=m:\n",
        "                continue\n",
        "            if graph[nx][ny] == 1 and nuse==0:\n",
        "                nnx = nx+dx[i]\n",
        "                nny = ny+dy[i]\n",
        "                if nnx<0 or nny<0 or nnx>=n or nny>=m:\n",
        "                    continue\n",
        "                if dist[nnx][nny][1] == 0 and graph[nnx][nny] == 0:\n",
        "                    nuse = 1\n",
        "                    queue.append((nnx,nny,nuse))\n",
        "                    dist[nnx][nny][nuse] = dist[x][y][0]+1\n",
        "            if graph[nx][ny] == 0 and dist[nx][ny][nuse] == 0:\n",
        "                queue.append((nx,ny,nuse))\n",
        "                dist[nx][ny][nuse] = dist[x][y][nuse]+1\n",
        "    return\n",
        "def solution(n, m, hole):\n",
        "    answer = 0\n",
        "    graph = [[0 for i in range(m)]for j in range(n)]\n",
        "    dist = [[[0,0] for i in range(m)]for j in range(n)]\n",
        "    for i in hole:\n",
        "        graph[i[0]-1][i[1]-1] = 1\n",
        "    bfs(n,m,graph,dist)\n",
        "    if dist[-1][-1][0] == 0:\n",
        "        if dist[-1][-1][1] == 0:\n",
        "            answer = -1\n",
        "        else:\n",
        "            answer = dist[-1][-1][1]\n",
        "    else:\n",
        "        if dist[-1][-1][1] == 0 or dist[-1][-1][0] < dist[-1][-1][1]:\n",
        "            answer = dist[-1][-1][0]-1\n",
        "        else:\n",
        "            answer = dist[-1][-1][1]\n",
        "    return answer"
      ],
      "metadata": {
        "id": "m2xCJdg95pS0"
      },
      "execution_count": null,
      "outputs": []
    },
    {
      "cell_type": "markdown",
      "source": [
        "4번 보물 지도\n",
        "\n",
        "*   참조 1 : https://jjudrgn.tistory.com/47의 2206 벽 부수고 이동하기 문제\n",
        "*   참조 2 : 미로 탈출 예제(교재 152p)\n",
        "\n"
      ],
      "metadata": {
        "id": "nRQ9vbmNeKOy"
      }
    },
    {
      "cell_type": "markdown",
      "source": [
        "문제 1 : 단순 구현이라 어려운 점은 없었습니다.<br/>\n",
        "문제 2 : 리스트 사용한 알고리즘은 시간초과라 heapq 사용. heapq 모듈 사용법만 기억하고 있다면 문제는 없을 것 같습니다.<br/>\n",
        "문제 3 : 기존 완전탐색은 시간초과라 올림 함수+k로 나누어서 사용. math 모듈 사용법을 기억해야 되겠고 더 좋은 알고리즘이 있을 것 같은데 잘 모르겠습니다.<br/>\n",
        "문제 4 : 일종의 미로 문제라 bfs를 사용해야 한다는 것, 그리고 점프를 썼는지 안썼는지를 기록해야 한다는 것은 이해했습니다. 하지만 아직 bfs를 보지 않고 구현하지는 못하고, 점프 유무를 기록하는 방법은 아예 방법을 알 수 없어서 bfs는 교재의 예시를, 점프 유무 기록은 백준의 유사한 문제의 풀이법을 참고해서 풀었습니다. bfs 구현은 외우면 되겠지만 후자는 다음에 비슷한 문제가 나왔을 때 혼자서 풀기에는 어려울 것 같습니다.  "
      ],
      "metadata": {
        "id": "Z3EdtVhZQyKa"
      }
    }
  ]
}