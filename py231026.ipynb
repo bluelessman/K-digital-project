{
  "nbformat": 4,
  "nbformat_minor": 0,
  "metadata": {
    "colab": {
      "provenance": [],
      "toc_visible": true,
      "authorship_tag": "ABX9TyPu+E7FZNEOxVUODVDEz/of",
      "include_colab_link": true
    },
    "kernelspec": {
      "name": "python3",
      "display_name": "Python 3"
    },
    "language_info": {
      "name": "python"
    }
  },
  "cells": [
    {
      "cell_type": "markdown",
      "metadata": {
        "id": "view-in-github",
        "colab_type": "text"
      },
      "source": [
        "<a href=\"https://colab.research.google.com/github/bluelessman/k5-py-wiki/blob/main/py231026.ipynb\" target=\"_parent\"><img src=\"https://colab.research.google.com/assets/colab-badge.svg\" alt=\"Open In Colab\"/></a>"
      ]
    },
    {
      "cell_type": "code",
      "execution_count": null,
      "metadata": {
        "colab": {
          "base_uri": "https://localhost:8080/"
        },
        "id": "oYs1vlokXJu0",
        "outputId": "f2fdad0b-19c7-4dbc-d378-0b04a531b76f"
      },
      "outputs": [
        {
          "output_type": "stream",
          "name": "stdout",
          "text": [
            "apple:3\n",
            "banana:2\n",
            "orange:1\n",
            "dict_items([('apple', 3), ('banana', 2), ('orange', 1)])\n"
          ]
        }
      ],
      "source": [
        "fruits = {'apple':3,'banana':2,'orange':1}\n",
        "for (과일, 수) in fruits.items():\n",
        "  print(f\"{과일}:{수}\")\n",
        "print(fruits.items())"
      ]
    },
    {
      "cell_type": "code",
      "source": [],
      "metadata": {
        "id": "VsDGKjjNdR0R"
      },
      "execution_count": null,
      "outputs": []
    },
    {
      "cell_type": "code",
      "source": [
        "days = {'January':31, 'February':28, 'March':31, 'April':30,'May':31, 'June':30, 'July':31, 'August':31,'September':30, 'October':31, 'November':30, 'December':31}\n",
        "month = input()\n",
        "print(days.get(month))\n",
        "mList = list(days.key())"
      ],
      "metadata": {
        "id": "YRE4DCwrbj7i",
        "colab": {
          "base_uri": "https://localhost:8080/",
          "height": 428
        },
        "outputId": "aba06e61-dc3d-468a-a8f0-11b19e2a3b56"
      },
      "execution_count": null,
      "outputs": [
        {
          "output_type": "error",
          "ename": "KeyboardInterrupt",
          "evalue": "ignored",
          "traceback": [
            "\u001b[0;31m---------------------------------------------------------------------------\u001b[0m",
            "\u001b[0;31mKeyboardInterrupt\u001b[0m                         Traceback (most recent call last)",
            "\u001b[0;32m<ipython-input-31-0857eb40852b>\u001b[0m in \u001b[0;36m<cell line: 2>\u001b[0;34m()\u001b[0m\n\u001b[1;32m      1\u001b[0m \u001b[0mdays\u001b[0m \u001b[0;34m=\u001b[0m \u001b[0;34m{\u001b[0m\u001b[0;34m'January'\u001b[0m\u001b[0;34m:\u001b[0m\u001b[0;36m31\u001b[0m\u001b[0;34m,\u001b[0m \u001b[0;34m'February'\u001b[0m\u001b[0;34m:\u001b[0m\u001b[0;36m28\u001b[0m\u001b[0;34m,\u001b[0m \u001b[0;34m'March'\u001b[0m\u001b[0;34m:\u001b[0m\u001b[0;36m31\u001b[0m\u001b[0;34m,\u001b[0m \u001b[0;34m'April'\u001b[0m\u001b[0;34m:\u001b[0m\u001b[0;36m30\u001b[0m\u001b[0;34m,\u001b[0m\u001b[0;34m'May'\u001b[0m\u001b[0;34m:\u001b[0m\u001b[0;36m31\u001b[0m\u001b[0;34m,\u001b[0m \u001b[0;34m'June'\u001b[0m\u001b[0;34m:\u001b[0m\u001b[0;36m30\u001b[0m\u001b[0;34m,\u001b[0m \u001b[0;34m'July'\u001b[0m\u001b[0;34m:\u001b[0m\u001b[0;36m31\u001b[0m\u001b[0;34m,\u001b[0m \u001b[0;34m'August'\u001b[0m\u001b[0;34m:\u001b[0m\u001b[0;36m31\u001b[0m\u001b[0;34m,\u001b[0m\u001b[0;34m'September'\u001b[0m\u001b[0;34m:\u001b[0m\u001b[0;36m30\u001b[0m\u001b[0;34m,\u001b[0m \u001b[0;34m'October'\u001b[0m\u001b[0;34m:\u001b[0m\u001b[0;36m31\u001b[0m\u001b[0;34m,\u001b[0m \u001b[0;34m'November'\u001b[0m\u001b[0;34m:\u001b[0m\u001b[0;36m30\u001b[0m\u001b[0;34m,\u001b[0m \u001b[0;34m'December'\u001b[0m\u001b[0;34m:\u001b[0m\u001b[0;36m31\u001b[0m\u001b[0;34m}\u001b[0m\u001b[0;34m\u001b[0m\u001b[0;34m\u001b[0m\u001b[0m\n\u001b[0;32m----> 2\u001b[0;31m \u001b[0mmonth\u001b[0m \u001b[0;34m=\u001b[0m \u001b[0minput\u001b[0m\u001b[0;34m(\u001b[0m\u001b[0;34m)\u001b[0m\u001b[0;34m\u001b[0m\u001b[0;34m\u001b[0m\u001b[0m\n\u001b[0m\u001b[1;32m      3\u001b[0m \u001b[0mprint\u001b[0m\u001b[0;34m(\u001b[0m\u001b[0mdays\u001b[0m\u001b[0;34m.\u001b[0m\u001b[0mget\u001b[0m\u001b[0;34m(\u001b[0m\u001b[0mmonth\u001b[0m\u001b[0;34m)\u001b[0m\u001b[0;34m)\u001b[0m\u001b[0;34m\u001b[0m\u001b[0;34m\u001b[0m\u001b[0m\n\u001b[1;32m      4\u001b[0m \u001b[0mmList\u001b[0m \u001b[0;34m=\u001b[0m \u001b[0mlist\u001b[0m\u001b[0;34m(\u001b[0m\u001b[0mdays\u001b[0m\u001b[0;34m.\u001b[0m\u001b[0mkey\u001b[0m\u001b[0;34m(\u001b[0m\u001b[0;34m)\u001b[0m\u001b[0;34m)\u001b[0m\u001b[0;34m\u001b[0m\u001b[0;34m\u001b[0m\u001b[0m\n",
            "\u001b[0;32m/usr/local/lib/python3.10/dist-packages/ipykernel/kernelbase.py\u001b[0m in \u001b[0;36mraw_input\u001b[0;34m(self, prompt)\u001b[0m\n\u001b[1;32m    849\u001b[0m                 \u001b[0;34m\"raw_input was called, but this frontend does not support input requests.\"\u001b[0m\u001b[0;34m\u001b[0m\u001b[0;34m\u001b[0m\u001b[0m\n\u001b[1;32m    850\u001b[0m             )\n\u001b[0;32m--> 851\u001b[0;31m         return self._input_request(str(prompt),\n\u001b[0m\u001b[1;32m    852\u001b[0m             \u001b[0mself\u001b[0m\u001b[0;34m.\u001b[0m\u001b[0m_parent_ident\u001b[0m\u001b[0;34m,\u001b[0m\u001b[0;34m\u001b[0m\u001b[0;34m\u001b[0m\u001b[0m\n\u001b[1;32m    853\u001b[0m             \u001b[0mself\u001b[0m\u001b[0;34m.\u001b[0m\u001b[0m_parent_header\u001b[0m\u001b[0;34m,\u001b[0m\u001b[0;34m\u001b[0m\u001b[0;34m\u001b[0m\u001b[0m\n",
            "\u001b[0;32m/usr/local/lib/python3.10/dist-packages/ipykernel/kernelbase.py\u001b[0m in \u001b[0;36m_input_request\u001b[0;34m(self, prompt, ident, parent, password)\u001b[0m\n\u001b[1;32m    893\u001b[0m             \u001b[0;32mexcept\u001b[0m \u001b[0mKeyboardInterrupt\u001b[0m\u001b[0;34m:\u001b[0m\u001b[0;34m\u001b[0m\u001b[0;34m\u001b[0m\u001b[0m\n\u001b[1;32m    894\u001b[0m                 \u001b[0;31m# re-raise KeyboardInterrupt, to truncate traceback\u001b[0m\u001b[0;34m\u001b[0m\u001b[0;34m\u001b[0m\u001b[0m\n\u001b[0;32m--> 895\u001b[0;31m                 \u001b[0;32mraise\u001b[0m \u001b[0mKeyboardInterrupt\u001b[0m\u001b[0;34m(\u001b[0m\u001b[0;34m\"Interrupted by user\"\u001b[0m\u001b[0;34m)\u001b[0m \u001b[0;32mfrom\u001b[0m \u001b[0;32mNone\u001b[0m\u001b[0;34m\u001b[0m\u001b[0;34m\u001b[0m\u001b[0m\n\u001b[0m\u001b[1;32m    896\u001b[0m             \u001b[0;32mexcept\u001b[0m \u001b[0mException\u001b[0m \u001b[0;32mas\u001b[0m \u001b[0me\u001b[0m\u001b[0;34m:\u001b[0m\u001b[0;34m\u001b[0m\u001b[0;34m\u001b[0m\u001b[0m\n\u001b[1;32m    897\u001b[0m                 \u001b[0mself\u001b[0m\u001b[0;34m.\u001b[0m\u001b[0mlog\u001b[0m\u001b[0;34m.\u001b[0m\u001b[0mwarning\u001b[0m\u001b[0;34m(\u001b[0m\u001b[0;34m\"Invalid Message:\"\u001b[0m\u001b[0;34m,\u001b[0m \u001b[0mexc_info\u001b[0m\u001b[0;34m=\u001b[0m\u001b[0;32mTrue\u001b[0m\u001b[0;34m)\u001b[0m\u001b[0;34m\u001b[0m\u001b[0;34m\u001b[0m\u001b[0m\n",
            "\u001b[0;31mKeyboardInterrupt\u001b[0m: Interrupted by user"
          ]
        }
      ]
    },
    {
      "cell_type": "markdown",
      "source": [
        "# 새 섹션\n",
        "\n",
        "\n",
        "\n"
      ],
      "metadata": {
        "id": "NepPJnBfidVU"
      }
    },
    {
      "cell_type": "code",
      "source": [
        "d=[{'name':'Todd', 'phone':'555-1414', 'email':'todd@mail.net'},{'name':'Helga', 'phone':'555-1618', 'email':'helga@mail.net'},{'name':'Princess', 'phone':'555-3141', 'email':''},{'name':'LJ', 'phone':'555-2718', 'email':'lj@mail.net'}]\n",
        "print(\"8로 끝나는 사람 : \",end=\"\")\n",
        "for i in d:\n",
        "  pNum = i.get('phone')\n",
        "  if pNum[-1] =='8':\n",
        "    print(i.get('name'),end=\"/\")\n",
        "\n",
        "\n"
      ],
      "metadata": {
        "colab": {
          "base_uri": "https://localhost:8080/"
        },
        "id": "bHK5LFB6iweX",
        "outputId": "11c2ebe4-2f4d-43d1-e53d-22bb9cd65ddf"
      },
      "execution_count": null,
      "outputs": [
        {
          "output_type": "stream",
          "name": "stdout",
          "text": [
            "8로 끝나는 사람 : Helga/LJ/"
          ]
        }
      ]
    },
    {
      "cell_type": "code",
      "source": [
        "print(\"이메일이 없는 사람 : \",end=\"\")\n",
        "for i in d:\n",
        "  if not i.get('email'):\n",
        "    print(i.get('name'), end=\"/\")\n"
      ],
      "metadata": {
        "colab": {
          "base_uri": "https://localhost:8080/"
        },
        "id": "ruim3ID4jD4W",
        "outputId": "3601b417-dbbc-4f7b-cc86-35da496a3503"
      },
      "execution_count": null,
      "outputs": [
        {
          "output_type": "stream",
          "name": "stdout",
          "text": [
            "이메일이 없는 사람 : Princess/"
          ]
        }
      ]
    },
    {
      "cell_type": "code",
      "source": [
        "name = input(\"사용자 이름을 입력하세요: \")\n",
        "isExist = False\n",
        "for i in d:\n",
        "  if i.get('name') == name:\n",
        "    isExist = True\n",
        "    print(f\"전화번호: {i.get('phone')}, 이메일: {i.get('email')}\")\n",
        "if not isExist:\n",
        "  print(\"이름이 없습니다.\")"
      ],
      "metadata": {
        "colab": {
          "base_uri": "https://localhost:8080/"
        },
        "id": "_6uCcgn9jOMK",
        "outputId": "c45aff95-1493-40b5-ff44-b0b73ee6d681"
      },
      "execution_count": null,
      "outputs": [
        {
          "output_type": "stream",
          "name": "stdout",
          "text": [
            "사용자 이름을 입력하세요: LJ\n",
            "전화번호: 555-2718, 이메일: lj@mail.net\n"
          ]
        }
      ]
    },
    {
      "cell_type": "markdown",
      "source": [
        "# 새 섹션"
      ],
      "metadata": {
        "id": "oKHR_tGdmefE"
      }
    },
    {
      "cell_type": "code",
      "source": [
        "#로또\n",
        "import random\n",
        "pick = set()\n",
        "while len(pick) < 6:\n",
        "  pick.add(random.randint(1,45))\n",
        "print(pick)"
      ],
      "metadata": {
        "colab": {
          "base_uri": "https://localhost:8080/"
        },
        "id": "8TMlEnOjmhnr",
        "outputId": "df250053-7109-45cf-80f5-90909636fcee"
      },
      "execution_count": null,
      "outputs": [
        {
          "output_type": "stream",
          "name": "stdout",
          "text": [
            "{35, 7, 40, 44, 21, 30}\n"
          ]
        }
      ]
    },
    {
      "cell_type": "markdown",
      "source": [
        "# 새 섹션"
      ],
      "metadata": {
        "id": "naTCABntn5om"
      }
    },
    {
      "cell_type": "code",
      "source": [
        "text = input(\"문자열을 입력하세요: \")\n",
        "dic = dict()\n",
        "for i in text:\n",
        "  if i in dic:\n",
        "    dic[i] += 1\n",
        "  else:\n",
        "    dic[i] = 1\n",
        "print(dic)"
      ],
      "metadata": {
        "colab": {
          "base_uri": "https://localhost:8080/"
        },
        "id": "pvZ46CXyn7wQ",
        "outputId": "adac4406-cea5-4e57-d3ee-7af4402a4f90"
      },
      "execution_count": null,
      "outputs": [
        {
          "output_type": "stream",
          "name": "stdout",
          "text": [
            "문자열을 입력하세요: but i wont hesitate no more no more it cannot wait im yours\n",
            "{'b': 1, 'u': 2, 't': 7, ' ': 12, 'i': 5, 'w': 2, 'o': 7, 'n': 5, 'h': 1, 'e': 4, 's': 2, 'a': 3, 'm': 3, 'r': 3, 'c': 1, 'y': 1}\n"
          ]
        }
      ]
    },
    {
      "cell_type": "markdown",
      "source": [
        "# 함수\n"
      ],
      "metadata": {
        "id": "dZW5u71frj-3"
      }
    },
    {
      "cell_type": "code",
      "source": [
        "def cir_area(r):\n",
        "  result = 3.14*r**2\n",
        "  return result\n",
        "def cir_cirm(r):\n",
        "  return round(2*3.14*r,1)\n",
        "print(cir_area(5))\n",
        "print(cir_cirm(5))"
      ],
      "metadata": {
        "colab": {
          "base_uri": "https://localhost:8080/"
        },
        "id": "9_PqzjCVro6J",
        "outputId": "db62318e-8a27-40d8-a495-60575e1e7099"
      },
      "execution_count": null,
      "outputs": [
        {
          "output_type": "stream",
          "name": "stdout",
          "text": [
            "78.5\n",
            "31.4\n"
          ]
        }
      ]
    },
    {
      "cell_type": "code",
      "source": [
        "def print_info(name,age,gender):\n",
        "  print(f\"Name: {name}\\nAge: {age}\\nGender: {gender}\")\n",
        "print_info(\"Alice\",25,\"Female\")\n",
        "print_info(age=30,name='Bob',gender='Male')"
      ],
      "metadata": {
        "colab": {
          "base_uri": "https://localhost:8080/"
        },
        "id": "NWC8dmPAuLch",
        "outputId": "3bb938b1-ce45-459c-cf4c-7fdb6abc4f61"
      },
      "execution_count": null,
      "outputs": [
        {
          "output_type": "stream",
          "name": "stdout",
          "text": [
            "Name: Alice\n",
            "Age: 25\n",
            "Gender: Female\n",
            "Name: Bob\n",
            "Age: 30\n",
            "Gender: Male\n"
          ]
        }
      ]
    },
    {
      "cell_type": "code",
      "source": [
        "def sum_numbers(*args):\n",
        "  result = 0\n",
        "  for arg in args:\n",
        "    result += arg\n",
        "  return result\n",
        "result1 = sum_numbers(1,2,3,4,5,6)\n",
        "result2 = sum_numbers(1,2,3,4,5,6,7,8,9,10)\n",
        "print(result1,result2)"
      ],
      "metadata": {
        "colab": {
          "base_uri": "https://localhost:8080/"
        },
        "id": "MNy-oY2HyfpG",
        "outputId": "404eedf4-2019-4570-8d34-9e4a6223d7d8"
      },
      "execution_count": null,
      "outputs": [
        {
          "output_type": "stream",
          "name": "stdout",
          "text": [
            "21 55\n"
          ]
        }
      ]
    },
    {
      "cell_type": "code",
      "source": [
        "def complex_function(a, b, *args, c=0, d=0, **kwargs):\n",
        "    print(\"위치 인자\")\n",
        "    print(f\"a: {a}\")\n",
        "    print(f\"b: {b}\")\n",
        "\n",
        "    print(\"\\n위치 가변 인자:\")\n",
        "    for arg in args:\n",
        "        print(arg)\n",
        "\n",
        "    print(\"\\n기본값 인자\")\n",
        "    print(f\"c: {c}\")\n",
        "\n",
        "    print(\"\\n키워드 인자\")\n",
        "    print(f\"d: {d}\")\n",
        "\n",
        "    print(\"\\n키워드 가변 인자\")\n",
        "    for key, value in kwargs.items():\n",
        "        print(f\"{key}: {value}\")\n",
        "\n",
        "# 사용 예제:\n",
        "complex_function(1, 2, 3, 4, 5, d=7, name=\"Alice\", age=30)\n"
      ],
      "metadata": {
        "colab": {
          "base_uri": "https://localhost:8080/"
        },
        "id": "sdSC_I8P0Jec",
        "outputId": "557fc023-3007-4d10-f0ff-41b46eca7452"
      },
      "execution_count": null,
      "outputs": [
        {
          "output_type": "stream",
          "name": "stdout",
          "text": [
            "위치 인자\n",
            "a: 1\n",
            "b: 2\n",
            "\n",
            "위치 가변 인자:\n",
            "3\n",
            "4\n",
            "5\n",
            "\n",
            "기본값 인자\n",
            "c: 0\n",
            "\n",
            "키워드 인자\n",
            "d: 7\n",
            "\n",
            "키워드 가변 인자\n",
            "name: Alice\n",
            "age: 30\n"
          ]
        }
      ]
    },
    {
      "cell_type": "code",
      "source": [
        "def get_operator(operator):\n",
        "    def add(a, b):\n",
        "        return a + b\n",
        "\n",
        "    def subtract(a, b):\n",
        "        return a - b\n",
        "\n",
        "    def multiply(a, b):\n",
        "        return a * b\n",
        "\n",
        "    def divide(a, b):\n",
        "        return a / b\n",
        "\n",
        "    if operator == '+':\n",
        "        return add\n",
        "    elif operator == '-':\n",
        "        return subtract\n",
        "    elif operator == '*':\n",
        "        return multiply\n",
        "    elif operator == '/':\n",
        "        return divide\n",
        "\n",
        "# 함수의 반환값으로 함수 사용\n",
        "add_func = get_operator('+')\n",
        "result = add_func(3, 4)  # 7\n",
        "print(result)"
      ],
      "metadata": {
        "colab": {
          "base_uri": "https://localhost:8080/"
        },
        "id": "jiZ9eTyN7AuI",
        "outputId": "5c1f7c36-289e-4b52-89ce-6ade803288ec"
      },
      "execution_count": null,
      "outputs": [
        {
          "output_type": "stream",
          "name": "stdout",
          "text": [
            "7\n"
          ]
        }
      ]
    },
    {
      "cell_type": "code",
      "source": [
        "def get_operator(operator):\n",
        "    if operator == '+':\n",
        "        return lambda a, b: a + b\n",
        "    elif operator == '-':\n",
        "        return lambda a, b: a - b\n",
        "    elif operator == '*':\n",
        "        return lambda a, b: a * b\n",
        "    elif operator == '/':\n",
        "        return lambda a, b: a / b\n",
        "\n",
        "# 함수의 반환값으로 람다 함수 사용\n",
        "add_func = get_operator('+')\n",
        "result1 = add_func(3, 4)  # 7\n",
        "\n",
        "multiply_func = get_operator('*')\n",
        "result2 = multiply_func(3, 4)  # 12\n",
        "print(result1,result2)"
      ],
      "metadata": {
        "colab": {
          "base_uri": "https://localhost:8080/"
        },
        "id": "_T-gX8tI7PMl",
        "outputId": "068e80d2-f2f7-4733-85d1-a24b16fb06c4"
      },
      "execution_count": null,
      "outputs": [
        {
          "output_type": "stream",
          "name": "stdout",
          "text": [
            "7 12\n"
          ]
        }
      ]
    },
    {
      "cell_type": "code",
      "source": [
        "def calculate(func, a, b):\n",
        "  if a==-1:\n",
        "    return func\n",
        "  else:\n",
        "    return func(a, b)\n",
        "\n",
        "def add(a, b):\n",
        "    return a + b\n",
        "\n",
        "def multiply(a, b):\n",
        "    return a * b\n",
        "\n",
        "# 함수를 다른 함수의 인자로 전달\n",
        "result1 = calculate(add, 3, 4)       # 7\n",
        "result2 = calculate(multiply, 3, 4)  # 12\n",
        "result = calculate(add,-1,4)\n",
        "print(result(5,5))\n",
        "print(result1,result2)\n",
        "print(add(3,5))"
      ],
      "metadata": {
        "colab": {
          "base_uri": "https://localhost:8080/"
        },
        "id": "z6CBL0fb7TjB",
        "outputId": "e3fa4ba1-69d8-4298-f037-ed1042d78b71"
      },
      "execution_count": null,
      "outputs": [
        {
          "output_type": "stream",
          "name": "stdout",
          "text": [
            "10\n",
            "7 12\n",
            "8\n"
          ]
        }
      ]
    },
    {
      "cell_type": "markdown",
      "source": [
        "# 클래스"
      ],
      "metadata": {
        "id": "WOOLEOwHDIzm"
      }
    },
    {
      "cell_type": "code",
      "source": [
        "class Rectangle:\n",
        "  def __init__(self,w,h):\n",
        "    self.width = w\n",
        "    self.height = h\n",
        "  def area(self):\n",
        "    result = self.width * self.height\n",
        "    return result\n",
        "r1 = Rectangle(3,4)\n",
        "print(type(r1))\n",
        "print(r1.height)\n",
        "print(r1.width)\n",
        "print(r1.area())"
      ],
      "metadata": {
        "colab": {
          "base_uri": "https://localhost:8080/"
        },
        "id": "-BxljCwI72PN",
        "outputId": "289b6470-26b9-4236-c984-cc0c72d784c5"
      },
      "execution_count": null,
      "outputs": [
        {
          "output_type": "stream",
          "name": "stdout",
          "text": [
            "<class '__main__.Rectangle'>\n",
            "4\n",
            "3\n",
            "12\n"
          ]
        }
      ]
    },
    {
      "cell_type": "code",
      "source": [
        "class People:\n",
        "    def __init__(self, name, age):\n",
        "        self.name = name\n",
        "        self.age = age\n",
        "\n",
        "    def introduce(self):\n",
        "        print(\"안녕하세요, 제 이름은\", self.name, \"입니다.\")\n",
        "        print(\"나이는\", self.age, \"살입니다.\")\n",
        "\n",
        "class Teacher(People):\n",
        "    def __init__(self, name, age, subject):\n",
        "        super().__init__(name, age)\n",
        "        self.subject = subject\n",
        "\n",
        "    def show_info(self):\n",
        "        super().introduce()\n",
        "        print(\"제 전공은\", self.subject, \"입니다.\")\n",
        "\n",
        "teacher = Teacher(\"홍길동\", 30, \"수학\")\n",
        "teacher.show_info()\n"
      ],
      "metadata": {
        "colab": {
          "base_uri": "https://localhost:8080/"
        },
        "id": "Juz2tmDjKQo5",
        "outputId": "0d08e763-7bd9-4e4c-ace6-bdac1106872d"
      },
      "execution_count": null,
      "outputs": [
        {
          "output_type": "stream",
          "name": "stdout",
          "text": [
            "안녕하세요, 제 이름은 홍길동 입니다.\n",
            "나이는 30 살입니다.\n",
            "제 전공은 수학 입니다.\n"
          ]
        }
      ]
    }
  ]
}