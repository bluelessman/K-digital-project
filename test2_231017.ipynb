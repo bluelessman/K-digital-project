{
  "nbformat": 4,
  "nbformat_minor": 0,
  "metadata": {
    "colab": {
      "provenance": [],
      "authorship_tag": "ABX9TyOt0QHjdifVSEbmT1mCXAdD",
      "include_colab_link": true
    },
    "kernelspec": {
      "name": "python3",
      "display_name": "Python 3"
    },
    "language_info": {
      "name": "python"
    }
  },
  "cells": [
    {
      "cell_type": "markdown",
      "metadata": {
        "id": "view-in-github",
        "colab_type": "text"
      },
      "source": [
        "<a href=\"https://colab.research.google.com/github/bluelessman/K-digital-project/blob/main/test2_231017.ipynb\" target=\"_parent\"><img src=\"https://colab.research.google.com/assets/colab-badge.svg\" alt=\"Open In Colab\"/></a>"
      ]
    },
    {
      "cell_type": "code",
      "execution_count": 2,
      "metadata": {
        "colab": {
          "base_uri": "https://localhost:8080/"
        },
        "id": "I8bbdwlgrnVv",
        "outputId": "50065692-649e-419b-adc2-086ed8b3edba"
      },
      "outputs": [
        {
          "output_type": "stream",
          "name": "stdout",
          "text": [
            "숫자: 16\n",
            "짝수\n"
          ]
        }
      ],
      "source": [
        "num = int(input(\"숫자: \"))\n",
        "if num%2==0:\n",
        "  print(\"짝수\")\n",
        "else :\n",
        "  print(\"홀수\")"
      ]
    },
    {
      "cell_type": "code",
      "source": [
        "score = int(input(\"점수: \"))\n",
        "if score>=90:\n",
        "  print(\"A\")\n",
        "elif score>=80:\n",
        "  print(\"B\")\n",
        "elif score>=70:\n",
        "  print(\"C\")\n",
        "elif score>=60:\n",
        "  print(\"D\")\n",
        "else :\n",
        "  print(\"F\")"
      ],
      "metadata": {
        "colab": {
          "base_uri": "https://localhost:8080/"
        },
        "id": "WgjLjeJss1Dl",
        "outputId": "49bae321-cc33-4190-d173-49f2f034023d"
      },
      "execution_count": 8,
      "outputs": [
        {
          "output_type": "stream",
          "name": "stdout",
          "text": [
            "점수: 80\n",
            "B\n"
          ]
        }
      ]
    },
    {
      "cell_type": "code",
      "source": [
        "l = float(input(\"길이: \"))\n",
        "if l < 0:\n",
        "  print(\"잘못 입력하였습니다.\")\n",
        "else:\n",
        "  print(f\"{l}cm는 {l/2.54:.2}인치입니다.\")"
      ],
      "metadata": {
        "colab": {
          "base_uri": "https://localhost:8080/"
        },
        "id": "dt_Hu1zLuGvf",
        "outputId": "7c067684-ab92-45c9-813c-258d9c1924a9"
      },
      "execution_count": 14,
      "outputs": [
        {
          "output_type": "stream",
          "name": "stdout",
          "text": [
            "길이: -5\n",
            "잘못 입력하였습니다.\n"
          ]
        }
      ]
    },
    {
      "cell_type": "code",
      "source": [
        "credit = int(input(\"이수학점: \"))\n",
        "if credit<40:\n",
        "  print(\"1학년입니다.\")\n",
        "elif credit<80:\n",
        "  print(\"2학년입니다.\")\n",
        "else:\n",
        "  print(\"졸업반입니다.\")"
      ],
      "metadata": {
        "colab": {
          "base_uri": "https://localhost:8080/"
        },
        "id": "QVWlU0YTuu_y",
        "outputId": "87b72e40-9685-46ae-84b0-34cc668be4f1"
      },
      "execution_count": 18,
      "outputs": [
        {
          "output_type": "stream",
          "name": "stdout",
          "text": [
            "이수학점: 15\n",
            "1학년입니다.\n"
          ]
        }
      ]
    },
    {
      "cell_type": "code",
      "source": [
        "h = int(input(\"Enter hour: \"))\n",
        "t = int(input(\"am(1) or pm(2)?\"))\n",
        "l = int(input(\"How many hours ahead?\"))\n",
        "\n",
        "if (t+(h+l-1)//12)%2 == 0:\n",
        "  print(f\"{(h+l-1)%12+1} pm\")\n",
        "else:\n",
        "  print(f\"{(h+l-1)%12+1} am\")"
      ],
      "metadata": {
        "colab": {
          "base_uri": "https://localhost:8080/"
        },
        "id": "qjdNfULAvNmd",
        "outputId": "7d8a5f9c-1ad3-47e3-c05d-a9e8d7da2b84"
      },
      "execution_count": 23,
      "outputs": [
        {
          "output_type": "stream",
          "name": "stdout",
          "text": [
            "Enter hour: 12\n",
            "am(1) or pm(2)?2\n",
            "How many hours ahead?34\n",
            "10 am\n"
          ]
        }
      ]
    },
    {
      "cell_type": "code",
      "source": [
        "a = 10\n",
        "b = 20\n",
        "c = 5\n",
        "min_value = a if a < b and a < c else (b if b < c else c)\n",
        "print(\"가장 작은 수는\", min_value, \"입니다.\")\n"
      ],
      "metadata": {
        "colab": {
          "base_uri": "https://localhost:8080/"
        },
        "id": "Zhvs2z8fyHmW",
        "outputId": "1109f414-b2d2-4e61-80a5-9336f343436d"
      },
      "execution_count": 24,
      "outputs": [
        {
          "output_type": "stream",
          "name": "stdout",
          "text": [
            "가장 작은 수는 5 입니다.\n"
          ]
        }
      ]
    },
    {
      "cell_type": "code",
      "source": [
        "print(\"[성적 계산기]\")\n",
        "print(\"\")\n",
        "k = int(input(\"국어 성적을 입력하세요: \"))\n",
        "e = int(input(\"영어 성적을 입력하세요: \"))\n",
        "m = int(input(\"수학 성적을 입력하세요: \"))\n",
        "grade = \"\"\n",
        "avg_score = 0.4*k+0.4*e+0.2*m\n",
        "if avg_score>=90:\n",
        "  grade = \"A\"\n",
        "elif avg_score>=80:\n",
        "  grade=\"B\"\n",
        "elif avg_score>=70:\n",
        "  grade=\"C\"\n",
        "elif avg_score>=60:\n",
        "  grade=\"D\"\n",
        "else :\n",
        "  grade=\"F\"\n",
        "\n",
        "print(\"\")\n",
        "print(\"[성적 결과]\")\n",
        "print(f\"국어: {k}점, 영어: {e}점, 수학: {m}점\")\n",
        "print(f\"총 평군 점수: {avg_score:.2f}점\")\n",
        "print(f\"학점: {grade}\")"
      ],
      "metadata": {
        "colab": {
          "base_uri": "https://localhost:8080/"
        },
        "id": "SBaF_x88ymTN",
        "outputId": "41954748-da63-4a61-e231-2f0db66cbab6"
      },
      "execution_count": 27,
      "outputs": [
        {
          "output_type": "stream",
          "name": "stdout",
          "text": [
            "[성적 계산기]\n",
            "\n",
            "국어 성적을 입력하세요: 89\n",
            "영어 성적을 입력하세요: 79\n",
            "수학 성적을 입력하세요: 70\n",
            "\n",
            "[성적 결과]\n",
            "국어: 89점, 영어: 79점, 수학: 70점\n",
            "총 평군 점수: 81.20점\n",
            "학점: B\n"
          ]
        }
      ]
    }
  ]
}